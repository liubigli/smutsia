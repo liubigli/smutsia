{
 "cells": [
  {
   "cell_type": "code",
   "execution_count": 1,
   "metadata": {
    "pycharm": {
     "name": "#%%\n"
    }
   },
   "outputs": [],
   "source": [
    "%load_ext autoreload\n",
    "%autoreload 2"
   ]
  },
  {
   "cell_type": "code",
   "execution_count": 2,
   "metadata": {
    "pycharm": {
     "name": "#%%\n"
    }
   },
   "outputs": [],
   "source": [
    "import os\n",
    "import numpy as np\n",
    "import pandas as pd\n",
    "from glob import glob\n",
    "from pyntcloud import PyntCloud\n",
    "from matplotlib import pyplot as plt\n",
    "from scipy.sparse import find, csr_matrix\n",
    "from scipy.sparse.csgraph import minimum_spanning_tree\n",
    "import loadlib\n",
    "from smutsia.utils.viz import plot_cloud\n",
    "from smutsia.point_cloud import filter_points\n",
    "from smutsia.point_cloud.io import load_pyntcloud\n",
    "from smutsia.point_cloud.normals import get_normals\n",
    "from smutsia.utils.graph import cloud_knn_graph, cloud_spherical_graph, merge_graphs\n",
    "from smutsia.morphology.segmentation.metrics import z_nz_dist\n",
    "from smutsia.morphology.segmentation import quasi_flat_zones"
   ]
  },
  {
   "cell_type": "code",
   "execution_count": 3,
   "metadata": {
    "pycharm": {
     "name": "#%%\n"
    }
   },
   "outputs": [],
   "source": [
    "basedir = '../../data/semantickitti/dataset/sequences/'\n",
    "sequences = sorted(os.listdir(basedir))\n",
    "plyfiles = sorted(glob(os.path.join(basedir, sequences[8], 'velodyne', '*.bin')))"
   ]
  },
  {
   "cell_type": "code",
   "execution_count": 4,
   "metadata": {
    "pycharm": {
     "name": "#%%\n"
    }
   },
   "outputs": [
    {
     "name": "stdout",
     "output_type": "stream",
     "text": [
      "3721\n"
     ]
    }
   ],
   "source": [
    "# nidx = np.random.randint(len(plyfiles))\n",
    "nidx = 3721\n",
    "print(nidx)\n",
    "cloud = load_pyntcloud(plyfiles[nidx], add_label=True)\n",
    "fpoints = filter_points(cloud.points.values, height_range=(-4.0, np.inf))\n",
    "cloud = PyntCloud(pd.DataFrame(fpoints, columns=list(cloud.points)))"
   ]
  },
  {
   "cell_type": "code",
   "execution_count": 17,
   "metadata": {},
   "outputs": [
    {
     "data": {
      "text/plain": [
       "<pyvista.plotting.qt_plotting.BackgroundPlotter at 0x7f48754e4af0>"
      ]
     },
     "execution_count": 17,
     "metadata": {},
     "output_type": "execute_result"
    },
    {
     "name": "stdout",
     "output_type": "stream",
     "text": [
      "Selected Points: \n",
      "[25180 25181 25182]\n",
      "Coordinates xyz: \n",
      "[[ 6.39154816 18.93701172 -0.59236157]\n",
      " [ 6.32815981 18.94792938 -0.59144968]\n",
      " [ 6.27074146 18.97585678 -0.59255755]]\n",
      "Labels: \n",
      "[72. 72. 72.]\n"
     ]
    }
   ],
   "source": [
    "plot_cloud(cloud.xyz, scalars=cloud.points.labels.values, cmap=plt.cm.Set1, interact=True)"
   ]
  },
  {
   "cell_type": "markdown",
   "metadata": {},
   "source": [
    "## Define 3D Graph"
   ]
  },
  {
   "cell_type": "code",
   "execution_count": 6,
   "metadata": {
    "pycharm": {
     "name": "#%%\n"
    }
   },
   "outputs": [
    {
     "data": {
      "text/plain": [
       "<pyvista.plotting.qt_plotting.BackgroundPlotter at 0x7f48ac3004b0>"
      ]
     },
     "execution_count": 6,
     "metadata": {},
     "output_type": "execute_result"
    }
   ],
   "source": [
    "# initialise k-nn graph\n",
    "knn_graph = cloud_knn_graph(cloud.xyz, k = 10)\n",
    "# initialise Spherical graph\n",
    "spherical_graph = cloud_spherical_graph(cloud.xyz, res_pitch=64, res_yaw=2048, thresold=3.0)\n",
    "# 3D graph is obtained as merge of the two graphs\n",
    "graph = merge_graphs([knn_graph, spherical_graph])\n",
    "\n",
    "# plot 3D Graph\n",
    "plot_cloud(xyz=cloud.xyz, graph=graph)"
   ]
  },
  {
   "cell_type": "code",
   "execution_count": 7,
   "metadata": {},
   "outputs": [],
   "source": [
    "%load_ext line_profiler"
   ]
  },
  {
   "cell_type": "code",
   "execution_count": 8,
   "metadata": {},
   "outputs": [
    {
     "name": "stdout",
     "output_type": "stream",
     "text": [
      "*** KeyboardInterrupt exception caught in code being profiled."
     ]
    }
   ],
   "source": [
    "%lprun -f cloud_spherical_graph cloud_spherical_graph(cloud.xyz, res_pitch=64, res_yaw=2048, thresold=3.0)"
   ]
  },
  {
   "cell_type": "code",
   "execution_count": 9,
   "metadata": {},
   "outputs": [
    {
     "data": {
      "text/plain": [
       "<pyvista.plotting.qt_plotting.BackgroundPlotter at 0x7f48b20c17d0>"
      ]
     },
     "execution_count": 9,
     "metadata": {},
     "output_type": "execute_result"
    }
   ],
   "source": [
    "sg = cloud_spherical_graph(cloud.xyz, res_pitch=64, res_yaw=2048, thresold=3.0)\n",
    "plot_cloud(cloud.xyz, graph=sg)"
   ]
  },
  {
   "cell_type": "code",
   "execution_count": 11,
   "metadata": {
    "pycharm": {
     "name": "#%%\n"
    }
   },
   "outputs": [],
   "source": [
    "normals = get_normals(cloud, method='pca', k=10)\n",
    "## visualise normals\n",
    "# cloud.points['red'] = (np.abs(normals[:, 0]) * 255).astype(np.uint8)\n",
    "# cloud.points['green'] = (np.abs(normals[:, 1]) * 255).astype(np.uint8)\n",
    "# cloud.points['blue'] = (np.abs(normals[:, 2]) * 255).astype(np.uint8)\n",
    "# cloud.plot(notebook=False, initial_point_size=0.03)"
   ]
  },
  {
   "cell_type": "markdown",
   "metadata": {},
   "source": [
    "#### Choose right parameters for the logistic function\n",
    "\n",
    "In the following we are going to compute weights between two points $p_1$ and $p_2$ as:\n",
    "$$w(p_1, p_2) = \\Big| \\frac{z(p_1)}{f(n_z(p_1))} - \\frac{z(p_2)}{f(n_z(p_2))} \\Big|,$$\n",
    "where $$f(x) = \\frac{1}{1 - exp(-k(x-x_0))}.$$\n",
    "In the following we are doing some plots to test the good values to choose for $k$ and $x_0$. "
   ]
  },
  {
   "cell_type": "code",
   "execution_count": 12,
   "metadata": {},
   "outputs": [
    {
     "data": {
      "text/plain": [
       "<matplotlib.legend.Legend at 0x7f48c48e9190>"
      ]
     },
     "execution_count": 12,
     "metadata": {},
     "output_type": "execute_result"
    },
    {
     "data": {
      "image/png": "[encoded data removed]",
      "text/plain": [
       "<Figure size 1152x432 with 2 Axes>"
      ]
     },
     "metadata": {
      "needs_background": "light"
     },
     "output_type": "display_data"
    }
   ],
   "source": [
    "from smutsia.morphology.segmentation.metrics import _logistic_function\n",
    "x = np.linspace(0, 1, 1000)\n",
    "k = [1, 2, 4, 8, 16, 32]\n",
    "x0 = 1/2\n",
    "fig, ax = plt.subplots(1, 2, figsize=(16, 6))\n",
    "for h in k:\n",
    "    ax[0].plot(x, _logistic_function(x, x0, 1, h))\n",
    "ax[0].set_title(\"Logistic function varing values of k\")\n",
    "ax[0].legend(k)\n",
    "\n",
    "\n",
    "x0 = np.arange(0, 10,2)/10\n",
    "\n",
    "for xx in x0:\n",
    "    ax[1].plot(x, _logistic_function(x, xx, 1, 32))\n",
    "ax[1].set_title(\"Logistic function varing values of x0\")\n",
    "ax[1].legend(x0)"
   ]
  },
  {
   "cell_type": "markdown",
   "metadata": {},
   "source": [
    "#### Initialise weighted graph with $x_0=0.7$ and $k=16$"
   ]
  },
  {
   "cell_type": "code",
   "execution_count": 13,
   "metadata": {
    "pycharm": {
     "name": "#%%\n"
    }
   },
   "outputs": [],
   "source": [
    "# adding weights to 3D graph\n",
    "src, dst, _ = find(graph)\n",
    "# the weights are z / n_z\n",
    "weigths = z_nz_dist(cloud.xyz, normals, src, dst)\n",
    "# weighted 3D graph\n",
    "wg = csr_matrix((weigths, (src, dst)), shape=graph.shape)"
   ]
  },
  {
   "cell_type": "code",
   "execution_count": 14,
   "metadata": {},
   "outputs": [
    {
     "data": {
      "text/plain": [
       "<pyvista.plotting.qt_plotting.BackgroundPlotter at 0x7f48b20a5d70>"
      ]
     },
     "execution_count": 14,
     "metadata": {},
     "output_type": "execute_result"
    }
   ],
   "source": [
    "# MST\n",
    "t = minimum_spanning_tree(wg)\n",
    "plot_cloud(cloud.xyz, graph=t)"
   ]
  },
  {
   "cell_type": "code",
   "execution_count": 15,
   "metadata": {
    "pycharm": {
     "name": "#%%\n"
    }
   },
   "outputs": [
    {
     "name": "stdout",
     "output_type": "stream",
     "text": [
      "Number of connected components:  69582\n"
     ]
    },
    {
     "data": {
      "text/plain": [
       "<pyvista.plotting.qt_plotting.BackgroundPlotter at 0x7f48b209e870>"
      ]
     },
     "execution_count": 15,
     "metadata": {},
     "output_type": "execute_result"
    }
   ],
   "source": [
    "# lambda quasi flat zones\n",
    "cc = quasi_flat_zones(wg, threshold=0.30, debug_info=True)\n",
    "plot_cloud(cloud.xyz, scalars=cc, cmap=plt.cm.tab20)"
   ]
  },
  {
   "cell_type": "markdown",
   "metadata": {},
   "source": [
    "### Find a strategy to merge connected components\n",
    "\n",
    "[TODO] Strategies to test:\n",
    "\n",
    "* [ ] First strategy to test could be to consider only the biggest connected components. As first test we consider only cc bigger than 100 points, and try to merge them using ransac over aggregated informations, as for example max_z, min_z, mean_z, std_z, nz_mean, nz_std.\n",
    "\n"
   ]
  },
  {
   "cell_type": "code",
   "execution_count": 18,
   "metadata": {},
   "outputs": [],
   "source": [
    "# counting cc ans selecting only those bigger than 100 points\n",
    "unique, count = np.unique(cc, return_counts=True)\n",
    "iargsort = count.argsort()[::-1]\n",
    "icount = count[iargsort]\n",
    "sel_cc = unique[iargsort][icount > 100]"
   ]
  },
  {
   "cell_type": "code",
   "execution_count": 19,
   "metadata": {},
   "outputs": [],
   "source": [
    "# we can consider to use the same metric to compare different cc, connecting all the cc together\n",
    "z_max = np.zeros_like(sel_cc).astype(np.float32)\n",
    "z_min = np.zeros_like(sel_cc).astype(np.float32)\n",
    "z_mean = np.zeros_like(sel_cc).astype(np.float32)\n",
    "z_std = np.zeros_like(sel_cc).astype(np.float32)\n",
    "nz_mean = np.zeros_like(sel_cc).astype(np.float32)\n",
    "nz_std = np.zeros_like(sel_cc).astype(np.float32)\n",
    "\n",
    "for n, u in enumerate(sel_cc):\n",
    "    z_max[n] = cloud.xyz[cc==u, 2].max()\n",
    "    z_min[n] = cloud.xyz[cc==u, 2].min()\n",
    "    z_mean[n] = cloud.xyz[cc==u, 2].mean()\n",
    "    z_std[n] = cloud.xyz[cc==u, 2].std()\n",
    "    nz_mean[n] = np.abs(normals[cc==u, 2]).mean()\n",
    "    nz_std[n] = np.abs(normals[cc==u, 2]).std()    "
   ]
  },
  {
   "cell_type": "code",
   "execution_count": 29,
   "metadata": {},
   "outputs": [
    {
     "ename": "ValueError",
     "evalue": "RANSAC could not find a valid consensus set. All `max_trials` iterations were skipped because each randomly chosen sub-sample failed the passing criteria. See estimator attributes for diagnostics (n_skips*).",
     "output_type": "error",
     "traceback": [
      "\u001b[0;31m---------------------------------------------------------------------------\u001b[0m",
      "\u001b[0;31mValueError\u001b[0m                                Traceback (most recent call last)",
      "\u001b[0;32m<ipython-input-29-644e2fe96ab6>\u001b[0m in \u001b[0;36m<module>\u001b[0;34m\u001b[0m\n\u001b[1;32m      2\u001b[0m \u001b[0mransac\u001b[0m \u001b[0;34m=\u001b[0m \u001b[0mRANSACRegressor\u001b[0m\u001b[0;34m(\u001b[0m\u001b[0;34m)\u001b[0m\u001b[0;34m\u001b[0m\u001b[0;34m\u001b[0m\u001b[0m\n\u001b[1;32m      3\u001b[0m \u001b[0mX\u001b[0m \u001b[0;34m=\u001b[0m \u001b[0mnp\u001b[0m\u001b[0;34m.\u001b[0m\u001b[0mc_\u001b[0m\u001b[0;34m[\u001b[0m\u001b[0mz_max\u001b[0m\u001b[0;34m,\u001b[0m \u001b[0mz_min\u001b[0m\u001b[0;34m,\u001b[0m \u001b[0mz_mean\u001b[0m\u001b[0;34m,\u001b[0m \u001b[0mz_std\u001b[0m\u001b[0;34m,\u001b[0m \u001b[0mnz_mean\u001b[0m\u001b[0;34m,\u001b[0m \u001b[0mnz_std\u001b[0m\u001b[0;34m]\u001b[0m\u001b[0;34m\u001b[0m\u001b[0;34m\u001b[0m\u001b[0m\n\u001b[0;32m----> 4\u001b[0;31m \u001b[0mransac\u001b[0m\u001b[0;34m.\u001b[0m\u001b[0mfit\u001b[0m\u001b[0;34m(\u001b[0m\u001b[0mX\u001b[0m\u001b[0;34m,\u001b[0m \u001b[0mnp\u001b[0m\u001b[0;34m.\u001b[0m\u001b[0mones\u001b[0m\u001b[0;34m(\u001b[0m\u001b[0mlen\u001b[0m\u001b[0;34m(\u001b[0m\u001b[0mX\u001b[0m\u001b[0;34m)\u001b[0m\u001b[0;34m)\u001b[0m\u001b[0;34m)\u001b[0m\u001b[0;34m\u001b[0m\u001b[0;34m\u001b[0m\u001b[0m\n\u001b[0m\u001b[1;32m      5\u001b[0m \u001b[0minlier_mask\u001b[0m \u001b[0;34m=\u001b[0m \u001b[0mransac\u001b[0m\u001b[0;34m.\u001b[0m\u001b[0minlier_mask_\u001b[0m\u001b[0;34m\u001b[0m\u001b[0;34m\u001b[0m\u001b[0m\n\u001b[1;32m      6\u001b[0m \u001b[0moutlier_mask\u001b[0m \u001b[0;34m=\u001b[0m \u001b[0mnp\u001b[0m\u001b[0;34m.\u001b[0m\u001b[0mlogical_not\u001b[0m\u001b[0;34m(\u001b[0m\u001b[0minlier_mask\u001b[0m\u001b[0;34m)\u001b[0m\u001b[0;34m\u001b[0m\u001b[0;34m\u001b[0m\u001b[0m\n",
      "\u001b[0;32m~/anaconda3/lib/python3.7/site-packages/sklearn/linear_model/_ransac.py\u001b[0m in \u001b[0;36mfit\u001b[0;34m(self, X, y, sample_weight)\u001b[0m\n\u001b[1;32m    428\u001b[0m             \u001b[0;32melse\u001b[0m\u001b[0;34m:\u001b[0m\u001b[0;34m\u001b[0m\u001b[0;34m\u001b[0m\u001b[0m\n\u001b[1;32m    429\u001b[0m                 raise ValueError(\n\u001b[0;32m--> 430\u001b[0;31m                     \u001b[0;34m\"RANSAC could not find a valid consensus set. All\"\u001b[0m\u001b[0;34m\u001b[0m\u001b[0;34m\u001b[0m\u001b[0m\n\u001b[0m\u001b[1;32m    431\u001b[0m                     \u001b[0;34m\" `max_trials` iterations were skipped because each\"\u001b[0m\u001b[0;34m\u001b[0m\u001b[0;34m\u001b[0m\u001b[0m\n\u001b[1;32m    432\u001b[0m                     \u001b[0;34m\" randomly chosen sub-sample failed the passing criteria.\"\u001b[0m\u001b[0;34m\u001b[0m\u001b[0;34m\u001b[0m\u001b[0m\n",
      "\u001b[0;31mValueError\u001b[0m: RANSAC could not find a valid consensus set. All `max_trials` iterations were skipped because each randomly chosen sub-sample failed the passing criteria. See estimator attributes for diagnostics (n_skips*)."
     ]
    }
   ],
   "source": [
    "from sklearn.linear_model import RANSACRegressor\n",
    "ransac = RANSACRegressor()\n",
    "X = np.c_[z_max, z_min, z_mean, z_std, nz_mean, nz_std]\n",
    "ransac.fit(X, np.ones(len(X)))\n",
    "inlier_mask = ransac.inlier_mask_\n",
    "outlier_mask = np.logical_not(inlier_mask)\n",
    "\n",
    "# Predict data of estimated models\n",
    "line_X = np.arange(X.min(), X.max())[:, np.newaxis]\n",
    "line_y = lr.predict(line_X)\n",
    "line_y_ransac = ransac.predict(line_X)"
   ]
  },
  {
   "cell_type": "code",
   "execution_count": 150,
   "metadata": {},
   "outputs": [],
   "source": [
    "## for each cc in sel_cc i want to estimate the kl divergence against the biggest connected componet\n",
    "## assuming that in each cc the z are normally distributed we can compute the KL(p|q) using the following formula\n",
    "## KL(p|q) = log(sigma_q/sigma_p) + (sigma_p**2 + (mu_p - mu_q)**2) / (2 * sigma_q)**2 - 0.5\n",
    "kl = np.zeros(len(sel_cc))\n",
    "for n in range(len(sel_cc)):\n",
    "    mu_1 = z[0]\n",
    "    mu_2 = z[n]\n",
    "    sigma_1 = std_z[0]\n",
    "    sigma_2 = std_z[n]\n",
    "    kl[n] = np.log(sigma_2/sigma_1) + (sigma_1**2 + (mu_1 - mu_2)**2) / (2 * sigma_2)**2 - 0.5\n",
    "    "
   ]
  },
  {
   "cell_type": "code",
   "execution_count": 202,
   "metadata": {},
   "outputs": [],
   "source": [
    "def kl_gauss_div(mu_1, mu_2, sigma_1, sigma_2):\n",
    "    return np.log(sigma_2/sigma_1) + (( sigma_1**2 + (mu_1 - mu_2)**2) / (2* (sigma_2)**2)) - 0.5"
   ]
  },
  {
   "cell_type": "code",
   "execution_count": 187,
   "metadata": {},
   "outputs": [],
   "source": [
    "def kl_divergence(p, q):\n",
    "    return np.sum(np.where(p != 0, p * np.log(p / q), 0))"
   ]
  },
  {
   "cell_type": "code",
   "execution_count": 194,
   "metadata": {},
   "outputs": [
    {
     "data": {
      "text/plain": [
       "array([14, 18])"
      ]
     },
     "execution_count": 194,
     "metadata": {},
     "output_type": "execute_result"
    }
   ],
   "source": [
    "cc_edges[weights.argmin()]"
   ]
  },
  {
   "cell_type": "code",
   "execution_count": 204,
   "metadata": {},
   "outputs": [
    {
     "data": {
      "text/plain": [
       "(-1.1553305, -1.1626029, 0.1207765, 0.08684109, 0.1407734791606775)"
      ]
     },
     "execution_count": 204,
     "metadata": {},
     "output_type": "execute_result"
    }
   ],
   "source": [
    "sigma_1 = std_z[14]\n",
    "sigma_2 = std_z[18]\n",
    "mu_1 = z[14]\n",
    "mu_2 = z[18]\n",
    "# np.log(sigma_2/sigma_1)\n",
    "mu_1, mu_2, sigma_1, sigma_2, kl_gauss_div(mu_1, mu_2, sigma_1, sigma_2)"
   ]
  },
  {
   "cell_type": "code",
   "execution_count": 201,
   "metadata": {},
   "outputs": [
    {
     "data": {
      "text/plain": [
       "[<matplotlib.lines.Line2D at 0x7fd7b4873a10>]"
      ]
     },
     "execution_count": 201,
     "metadata": {},
     "output_type": "execute_result"
    },
    {
     "data": {
      "image/png": "[encoded data removed]",
      "text/plain": [
       "<Figure size 432x288 with 1 Axes>"
      ]
     },
     "metadata": {
      "needs_background": "light"
     },
     "output_type": "display_data"
    }
   ],
   "source": [
    "plt.plot(x, norm.pdf(x, z[14], std_z[14]))\n",
    "plt.plot(x, norm.pdf(x, z[18], std_z[18]))"
   ]
  },
  {
   "cell_type": "code",
   "execution_count": 205,
   "metadata": {},
   "outputs": [
    {
     "data": {
      "image/png": "[encoded data removed]",
      "text/plain": [
       "<Figure size 432x288 with 1 Axes>"
      ]
     },
     "metadata": {
      "needs_background": "light"
     },
     "output_type": "display_data"
    }
   ],
   "source": [
    "cc_ids = np.arange(len(sel_cc))\n",
    "cc_edges = np.array(np.meshgrid(cc_ids, cc_ids)).T.reshape(-1,2)\n",
    "cc_edges = cc_edges[cc_edges[:,0]!=cc_edges[:,1]]\n",
    "src, dst = cc_edges[:, 0], cc_edges[:, 1]\n",
    "log_nz = _logistic_function(nz, x0=0.7, L=1, k=16)\n",
    "# weights = np.abs(z[src]  - z[dst])\n",
    "weights = kl_gauss_div(z[src], z[dst], std_z[src], std_z[dst])\n",
    "plt.plot(weights)\n",
    "cc_graph = csr_matrix((weights, (src, dst)), shape=(len(sel_cc), len(sel_cc)))\n",
    "cc_mst = minimum_spanning_tree(cc_graph)"
   ]
  },
  {
   "cell_type": "code",
   "execution_count": 212,
   "metadata": {},
   "outputs": [
    {
     "name": "stdout",
     "output_type": "stream",
     "text": [
      "Number of connected components:  13\n"
     ]
    },
    {
     "data": {
      "text/plain": [
       "<pyvista.plotting.qt_plotting.BackgroundPlotter at 0x7fd7b4943f50>"
      ]
     },
     "execution_count": 212,
     "metadata": {},
     "output_type": "execute_result"
    },
    {
     "name": "stdout",
     "output_type": "stream",
     "text": [
      "Selected Points: \n",
      "[84985 87002 87003 87004 87005 87006 87007 87008 90769 90770 90771 90772\n",
      " 90773 90774 90775 90777 90779 90780 90781]\n",
      "Coordinates xyz: \n",
      "[[-0.61666828 -3.03351235 -0.60338449]\n",
      " [-0.57070231 -2.90664816 -0.59716797]\n",
      " [-0.57408428 -2.95562077 -0.60825253]\n",
      " [-0.56232417 -2.94665718 -0.60623795]\n",
      " [-0.56858748 -2.99262166 -0.61731684]\n",
      " [-0.56592995 -3.02161956 -0.62336695]\n",
      " [-0.55920404 -3.03163505 -0.62538451]\n",
      " [-0.55453843 -3.05464005 -0.6304242 ]\n",
      " [-0.48974624 -2.67187023 -0.59476888]\n",
      " [-0.48706293 -2.69486928 -0.59980935]\n",
      " [-0.48539445 -2.72286248 -0.60685825]\n",
      " [-0.48675659 -2.7638402  -0.61792904]\n",
      " [-0.48694456 -2.78383136 -0.62296361]\n",
      " [-0.48124745 -2.7978425  -0.62598842]\n",
      " [-0.47252473 -2.79986644 -0.62599283]\n",
      " [-0.46212804 -2.83188152 -0.63404882]\n",
      " [-0.45257074 -2.84990096 -0.63808054]\n",
      " [-0.44890806 -2.87590098 -0.64412522]\n",
      " [-0.44420993 -2.89490557 -0.64915794]]\n",
      "Labels: \n",
      "[4 4 4 4 4 4 4 4 4 4 4 4 4 4 4 4 4 4 4]\n",
      "Selected Points: \n",
      "[42154]\n",
      "Coordinates xyz: \n",
      "[[-0.52144659 12.58108616 -0.90424782]]\n",
      "Labels: \n",
      "[4]\n"
     ]
    },
    {
     "name": "stderr",
     "output_type": "stream",
     "text": [
      "ERROR:root:Input port 0 of algorithm vtkAppendFilter(0x7fd87c039070) has 0 connections but is not optional.\n"
     ]
    },
    {
     "name": "stdout",
     "output_type": "stream",
     "text": [
      "Selected Points: \n",
      "[44874 44875 44876 44877 44878 44879]\n",
      "Coordinates xyz: \n",
      "[[-16.23073959  -3.71955848  -1.34983838]\n",
      " [-16.2172184   -3.7706964   -1.34899473]\n",
      " [-16.20170021  -3.82184052  -1.34915173]\n",
      " [-16.2021904   -3.87591195  -1.35030937]\n",
      " [-16.19543266  -3.90197992  -1.35038865]\n",
      " [-16.21094131  -3.95998192  -1.35354984]]\n",
      "Labels: \n",
      "[4 4 4 4 4 4]\n"
     ]
    }
   ],
   "source": [
    "from smutsia.utils import shuffle_labels\n",
    "\n",
    "sub_cc = quasi_flat_zones(cc_graph, 0.6, debug_info=True)\n",
    "merged_labels = np.zeros_like(cc)\n",
    "for n, u in enumerate(sel_cc):\n",
    "    merged_labels[cc==u] = sub_cc[n] + 1\n",
    "\n",
    "\n",
    "plot_cloud(cloud.xyz, scalars=shuffle_labels(merged_labels), cmap=plt.cm.tab20, interact=True)"
   ]
  },
  {
   "cell_type": "code",
   "execution_count": 141,
   "metadata": {},
   "outputs": [
    {
     "data": {
      "text/plain": [
       "<pyvista.plotting.qt_plotting.BackgroundPlotter at 0x7fd7cf9887d0>"
      ]
     },
     "execution_count": 141,
     "metadata": {},
     "output_type": "execute_result"
    },
    {
     "name": "stdout",
     "output_type": "stream",
     "text": [
      "Selected Points: \n",
      "[48316 48318 48319 48320 48321 48323]\n",
      "Coordinates xyz: \n",
      "[[ 3.67152572  9.91441345 -0.92054135]\n",
      " [ 3.62624621  9.88935757 -0.91655558]\n",
      " [ 3.61182666  9.94534492 -0.92165995]\n",
      " [ 3.65338111 10.10540867 -0.93886054]\n",
      " [ 3.52101898  9.9422369  -0.91776276]\n",
      " [ 3.48568225  9.94519329 -0.9168095 ]]\n",
      "Labels: \n",
      "[4 4 4 4 4 4]\n",
      "Selected Points: \n",
      "[101074 102899 102900]\n",
      "Coordinates xyz: \n",
      "[[ 0.23793276  4.10723782 -1.20699155]\n",
      " [ 0.24712032  4.11418295 -1.25698745]\n",
      " [ 0.22897281  4.05117702 -1.23591793]]\n",
      "Labels: \n",
      "[4 4 4]\n",
      "Selected Points: \n",
      "[82884 82885 82886 82887 84987 84988 84989 84990 84992 87009 87010]\n",
      "Coordinates xyz: \n",
      "[[-0.68740988 -3.0963304  -0.59348953]\n",
      " [-0.69380403 -3.1532917  -0.6065883 ]\n",
      " [-0.69114083 -3.18129182 -0.611637  ]\n",
      " [-0.68948573 -3.21328568 -0.6186924 ]\n",
      " [-0.61240554 -3.09950042 -0.61849868]\n",
      " [-0.61177188 -3.13748956 -0.62656409]\n",
      " [-0.60711884 -3.16249323 -0.63260716]\n",
      " [-0.60041606 -3.1765089  -0.63463134]\n",
      " [-0.58178157 -3.16356778 -0.63060963]\n",
      " [-0.56297219 -3.12858725 -0.64855039]\n",
      " [-0.57164347 -3.23252273 -0.67372727]]\n",
      "Labels: \n",
      "[4 4 4 4 4 4 4 4 4 4 4]\n"
     ]
    },
    {
     "name": "stderr",
     "output_type": "stream",
     "text": [
      "ERROR:root:Input port 0 of algorithm vtkAppendFilter(0x7fd87c0275a0) has 0 connections but is not optional.\n"
     ]
    },
    {
     "name": "stdout",
     "output_type": "stream",
     "text": [
      "Selected Points: \n",
      "[68103 68108 68109]\n",
      "Coordinates xyz: \n",
      "[[-1.99258602 -5.40112114 -0.80359238]\n",
      " [-1.85531402 -5.26660347 -0.77533931]\n",
      " [-1.84564757 -5.2916317  -0.77938116]]\n",
      "Labels: \n",
      "[4 4 4]\n"
     ]
    }
   ],
   "source": []
  },
  {
   "cell_type": "code",
   "execution_count": 131,
   "metadata": {},
   "outputs": [],
   "source": []
  },
  {
   "cell_type": "code",
   "execution_count": 84,
   "metadata": {},
   "outputs": [],
   "source": [
    "new_labels = 100*np.ones_like(cc)\n",
    "for n, s in enumerate(sel_cc):\n",
    "    new_labels[cc==s] = n + 1"
   ]
  },
  {
   "cell_type": "code",
   "execution_count": 86,
   "metadata": {},
   "outputs": [
    {
     "data": {
      "text/plain": [
       "<pyvista.plotting.qt_plotting.BackgroundPlotter at 0x7fd7de6e2cd0>"
      ]
     },
     "execution_count": 86,
     "metadata": {},
     "output_type": "execute_result"
    },
    {
     "name": "stdout",
     "output_type": "stream",
     "text": [
      "Selected Points: \n",
      "[120211 120212 120213 120214 120215 120216]\n",
      "Coordinates xyz: \n",
      "[[-3.90681577  1.97893012 -1.79828835]\n",
      " [-3.92408276  1.97283256 -1.80329478]\n",
      " [-3.91830015  1.95485401 -1.79725969]\n",
      " [-3.92955136  1.94578779 -1.79925537]\n",
      " [-3.95382333  1.94365251 -1.80827475]\n",
      " [-3.94993782  1.93366647 -1.80525458]]\n",
      "Labels: \n",
      "[8 8 8 8 8 8]\n",
      "Selected Points: \n",
      "[44485 44486]\n",
      "Coordinates xyz: \n",
      "[[-2.60709596  3.01500225 -0.16623706]\n",
      " [-2.60633731  2.99300265 -0.16420639]]\n",
      "Labels: \n",
      "[7 7]\n",
      "Selected Points: \n",
      "[101884 101886 101887 101889 101890 101892 101893 101895]\n",
      "Coordinates xyz: \n",
      "[[-0.36095738 -2.47205377 -0.68744391]\n",
      " [-0.34180292 -2.49209714 -0.69248211]\n",
      " [-0.34016779 -2.5250845  -0.70253909]\n",
      " [-0.32451075 -2.50513816 -0.69550771]\n",
      " [-0.32187209 -2.53512979 -0.70455939]\n",
      " [-0.30235124 -2.51519322 -0.69752878]\n",
      " [-0.30066168 -2.5441823  -0.70657825]\n",
      " [-0.29212591 -2.56519461 -0.71261525]]\n",
      "Labels: \n",
      "[5 5 5 5 5 5 5 5]\n",
      "Selected Points: \n",
      "[120497 120498 120499 120500 120501 120502 120503 120505 120506 120507\n",
      " 120508 120510 120511 121458 121460 121461 121462 121463 121464 121465\n",
      " 121466 121467 121468 121469 121470 121471 121472 121473 121474]\n",
      "Coordinates xyz: \n",
      "[[ 2.49570203 -3.72712898 -1.90895236]\n",
      " [ 2.49747038 -3.70413065 -1.89992392]\n",
      " [ 2.51320958 -3.70314026 -1.90391946]\n",
      " [ 2.52097797 -3.69114518 -1.90090334]\n",
      " [ 2.53670907 -3.68915415 -1.90489757]\n",
      " [ 2.53549218 -3.66315269 -1.89486647]\n",
      " [ 2.54934478 -3.67116165 -1.9008733 ]\n",
      " [ 2.56386542 -3.64416885 -1.89483786]\n",
      " [ 2.59556866 -3.66618919 -1.91085792]\n",
      " [ 2.58536577 -3.62718081 -1.89381325]\n",
      " [ 2.60708904 -3.6341939  -1.90181732]\n",
      " [ 2.61773252 -3.61419797 -1.8977915 ]\n",
      " [ 2.62250447 -3.59819961 -1.8927716 ]\n",
      " [ 2.45351768 -3.6310575  -1.90684414]\n",
      " [ 2.46215582 -3.60706258 -1.89981341]\n",
      " [ 2.47790742 -3.60807276 -1.90381145]\n",
      " [ 2.4806757  -3.58807421 -1.89678693]\n",
      " [ 2.49740291 -3.58808351 -1.90178359]\n",
      " [ 2.51314712 -3.58809304 -1.90578067]\n",
      " [ 2.50605369 -3.56608772 -1.89575577]\n",
      " [ 2.52278209 -3.56609797 -1.8997525 ]\n",
      " [ 2.5415175  -3.57010841 -1.90675366]\n",
      " [ 2.54129004 -3.54610801 -1.89672518]\n",
      " [ 2.5540359  -3.54111457 -1.89871681]\n",
      " [ 2.56778526 -3.53812146 -1.90171075]\n",
      " [ 2.56965733 -3.52812243 -1.89769864]\n",
      " [ 2.57741427 -3.51612544 -1.89568317]\n",
      " [ 2.59514999 -3.51813483 -1.90168214]\n",
      " [ 2.59891057 -3.50013542 -1.89566052]]\n",
      "Labels: \n",
      "[1 1 1 1 1 1 1 1 1 1 1 1 1 1 1 1 1 1 1 1 1 1 1 1 1 1 1 1 1]\n",
      "Selected Points: \n",
      "[31037 31038 33129 33131 33132 33133 33134 33135]\n",
      "Coordinates xyz: \n",
      "[[ 3.79587288e+01  1.16169639e-01 -1.94298780e+00]\n",
      " [ 3.79374504e+01  2.35343680e-01 -1.94197619e+00]\n",
      " [ 3.81945229e+01 -6.64970756e-01 -1.95708287e+00]\n",
      " [ 3.81471100e+01 -4.83706236e-01 -1.95405805e+00]\n",
      " [ 3.81198387e+01 -3.63530785e-01 -1.95204246e+00]\n",
      " [ 3.80785637e+01 -2.43355334e-01 -1.95002770e+00]\n",
      " [ 3.80712852e+01 -1.23179868e-01 -1.95001364e+00]\n",
      " [ 3.80250092e+01 -4.00584983e-03 -1.94700050e+00]]\n",
      "Labels: \n",
      "[35 35 35 35 35 35 35 35]\n",
      "Selected Points: \n",
      "[37926 37927 40044 40051 40052 40053 40054]\n",
      "Coordinates xyz: \n",
      "[[-0.55167651 13.98609829 -0.85445273]\n",
      " [-0.59603888 13.99499321 -0.85552806]\n",
      " [-0.47559968 13.30021667 -0.89029074]\n",
      " [-0.79848117 13.44043636 -0.90295768]\n",
      " [-0.84395355 13.49631977 -0.90810716]\n",
      " [-0.88518894 13.44822693 -0.904091  ]\n",
      " [-0.93902749 13.66206837 -0.92249471]]\n",
      "Labels: \n",
      "[3 3 3 3 3 3 3]\n",
      "Selected Points: \n",
      "[35227 35229 35231 35232 35233 35234 35236 35237 35238 35239]\n",
      "Coordinates xyz: \n",
      "[[33.23241425 -1.31291759 -1.85418129]\n",
      " [33.07987976 -1.09860504 -1.84414458]\n",
      " [33.08934402 -0.89030087 -1.84511173]\n",
      " [33.14406967 -0.78715014 -1.84809649]\n",
      " [33.1729393  -0.73607552 -1.85008907]\n",
      " [33.19266891 -0.63192332 -1.85107446]\n",
      " [33.18911743 -0.42261758 -1.85004723]\n",
      " [33.22384262 -0.31846535 -1.85303462]\n",
      " [33.22856903 -0.21431318 -1.85302269]\n",
      " [31.48643494 -0.15522727 -1.74501562]]\n",
      "Labels: \n",
      "[100 100 100 100 100 100 100 100 100 100]\n"
     ]
    }
   ],
   "source": [
    "plot_cloud(cloud.xyz, scalars=new_labels, cmap=plt.cm.tab20, interact=True, point_size=3.0)"
   ]
  },
  {
   "cell_type": "code",
   "execution_count": null,
   "metadata": {},
   "outputs": [],
   "source": []
  }
 ],
 "metadata": {
  "kernelspec": {
   "display_name": "Python 3",
   "language": "python",
   "name": "python3"
  },
  "language_info": {
   "codemirror_mode": {
    "name": "ipython",
    "version": 3
   },
   "file_extension": ".py",
   "mimetype": "text/x-python",
   "name": "python",
   "nbconvert_exporter": "python",
   "pygments_lexer": "ipython3",
   "version": "3.7.4"
  }
 },
 "nbformat": 4,
 "nbformat_minor": 1
}
