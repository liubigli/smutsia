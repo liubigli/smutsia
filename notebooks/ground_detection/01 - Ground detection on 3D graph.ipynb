{
 "cells": [
  {
   "cell_type": "code",
   "execution_count": 1,
   "outputs": [],
   "source": [
    "%load_ext autoreload\n",
    "%autoreload 2"
   ],
   "metadata": {
    "collapsed": false,
    "pycharm": {
     "name": "#%%\n"
    }
   }
  },
  {
   "cell_type": "code",
   "execution_count": 2,
   "metadata": {
    "collapsed": true,
    "pycharm": {
     "name": "#%%\n"
    }
   },
   "outputs": [],
   "source": [
    "import os\n",
    "import numpy as np\n",
    "from glob import glob\n",
    "from matplotlib import pyplot as plt\n",
    "from scipy.sparse import find, csr_matrix\n",
    "from smutsia.utils.viz import plot_cloud\n",
    "from smutsia.point_cloud.io import load_pyntcloud\n",
    "from smutsia.point_cloud.normals import get_normals\n",
    "from smutsia.utils.graph import cloud_knn_graph, cloud_spherical_graph, merge_graphs\n",
    "from smutsia.morphology.segmentation.metrics import z_nz_dist\n",
    "from smutsia.morphology.segmentation import quasi_flat_zones"
   ]
  },
  {
   "cell_type": "code",
   "execution_count": 3,
   "outputs": [],
   "source": [
    "basedir = '../../data/semantickitti/dataset/sequences/'\n",
    "sequences = sorted(os.listdir(basedir))\n",
    "plyfiles = sorted(glob(os.path.join(basedir, sequences[8], 'velodyne', '*.bin')))"
   ],
   "metadata": {
    "collapsed": false,
    "pycharm": {
     "name": "#%%\n"
    }
   }
  },
  {
   "cell_type": "code",
   "execution_count": 4,
   "outputs": [
    {
     "name": "stdout",
     "output_type": "stream",
     "text": [
      "3721\n"
     ]
    }
   ],
   "source": [
    "# nidx = np.random.randint(len(plyfiles))\n",
    "nidx = 3721\n",
    "print(nidx)\n",
    "cloud = load_pyntcloud(plyfiles[nidx], add_label=True)"
   ],
   "metadata": {
    "collapsed": false,
    "pycharm": {
     "name": "#%%\n"
    }
   }
  },
  {
   "cell_type": "code",
   "execution_count": 6,
   "outputs": [
    {
     "name": "stdout",
     "output_type": "stream",
     "text": [
      "TEST FUNC\n"
     ]
    },
    {
     "data": {
      "text/plain": "<pyvista.plotting.qt_plotting.BackgroundPlotter at 0x7ff770b13d70>"
     },
     "execution_count": 6,
     "metadata": {},
     "output_type": "execute_result"
    }
   ],
   "source": [
    "plot_cloud(cloud.xyz, scalars=cloud.points.labels.values, cmap=plt.cm.Set1)"
   ],
   "metadata": {
    "collapsed": false,
    "pycharm": {
     "name": "#%%\n"
    }
   }
  },
  {
   "cell_type": "code",
   "execution_count": 6,
   "outputs": [],
   "source": [
    "knn_graph = cloud_knn_graph(cloud.xyz, k = 10)\n",
    "spherical_graph = cloud_spherical_graph(cloud.xyz, res_pitch=64, res_yaw=2048)\n",
    "graph = merge_graphs([knn_graph, spherical_graph])"
   ],
   "metadata": {
    "collapsed": false,
    "pycharm": {
     "name": "#%%\n"
    }
   }
  },
  {
   "cell_type": "code",
   "execution_count": 7,
   "outputs": [],
   "source": [
    "plot_cloud(xyz=cloud.xyz, graph=graph)"
   ],
   "metadata": {
    "collapsed": false,
    "pycharm": {
     "name": "#%%\n"
    }
   }
  },
  {
   "cell_type": "code",
   "execution_count": 8,
   "outputs": [],
   "source": [
    "normals = get_normals(cloud, method='pca', k=10)"
   ],
   "metadata": {
    "collapsed": false,
    "pycharm": {
     "name": "#%%\n"
    }
   }
  },
  {
   "cell_type": "code",
   "execution_count": 10,
   "outputs": [
    {
     "data": {
      "text/plain": "[(-58.8148766522738, -50.17807442148316, 79.99167014006473),\n (52.59140534990769, 16.605517939923164, 15.893026901136649),\n (0.5414451481995419, -0.10227993790660489, 0.8344914414138693)]"
     },
     "execution_count": 10,
     "metadata": {},
     "output_type": "execute_result"
    }
   ],
   "source": [
    "cloud.points['red'] = (np.abs(normals[:, 0]) * 255).astype(np.uint8)\n",
    "cloud.points['green'] = (np.abs(normals[:, 1]) * 255).astype(np.uint8)\n",
    "cloud.points['blue'] = (np.abs(normals[:, 2]) * 255).astype(np.uint8)\n",
    "cloud.plot(notebook=False, initial_point_size=0.03)"
   ],
   "metadata": {
    "collapsed": false,
    "pycharm": {
     "name": "#%%\n"
    }
   }
  },
  {
   "cell_type": "code",
   "execution_count": 11,
   "outputs": [],
   "source": [
    "src, dst, _ = find(graph)\n",
    "weigths = z_nz_dist(cloud.xyz, normals, src, dst)\n",
    "wg = csr_matrix((weigths, (src, dst)), shape=graph.shape)"
   ],
   "metadata": {
    "collapsed": false,
    "pycharm": {
     "name": "#%%\n"
    }
   }
  },
  {
   "cell_type": "code",
   "execution_count": 12,
   "outputs": [
    {
     "name": "stdout",
     "output_type": "stream",
     "text": [
      "Number of connected components:  49406\n"
     ]
    }
   ],
   "source": [
    "cc = quasi_flat_zones(wg, threshold=0.30, debug_info=True)\n",
    "plot_cloud(cloud.xyz, scalars=cc, cmap=plt.cm.Set1)"
   ],
   "metadata": {
    "collapsed": false,
    "pycharm": {
     "name": "#%%\n"
    }
   }
  },
  {
   "cell_type": "code",
   "execution_count": 57,
   "outputs": [
    {
     "name": "stdout",
     "output_type": "stream",
     "text": [
      "TEST FUNC\n"
     ]
    }
   ],
   "source": [
    "plotter = plot_cloud(cloud.xyz)\n"
   ],
   "metadata": {
    "collapsed": false,
    "pycharm": {
     "name": "#%%\n"
    }
   }
  },
  {
   "cell_type": "code",
   "execution_count": 44,
   "outputs": [
    {
     "ename": "KeyError",
     "evalue": "'vtkOriginalPointIds'",
     "output_type": "error",
     "traceback": [
      "\u001B[0;31m---------------------------------------------------------------------------\u001B[0m",
      "\u001B[0;31mKeyError\u001B[0m                                  Traceback (most recent call last)",
      "\u001B[0;32m<ipython-input-44-40eb3e41a985>\u001B[0m in \u001B[0;36m<module>\u001B[0;34m\u001B[0m\n\u001B[0;32m----> 1\u001B[0;31m \u001B[0mplotter\u001B[0m\u001B[0;34m.\u001B[0m\u001B[0mpicked_cells\u001B[0m\u001B[0;34m.\u001B[0m\u001B[0mpoint_arrays\u001B[0m\u001B[0;34m[\u001B[0m\u001B[0;34m'vtkOriginalPointIds'\u001B[0m\u001B[0;34m]\u001B[0m\u001B[0;34m\u001B[0m\u001B[0;34m\u001B[0m\u001B[0m\n\u001B[0m\u001B[1;32m      2\u001B[0m \u001B[0;34m\u001B[0m\u001B[0m\n\u001B[1;32m      3\u001B[0m \u001B[0;34m\u001B[0m\u001B[0m\n",
      "\u001B[0;31mKeyError\u001B[0m: 'vtkOriginalPointIds'"
     ]
    }
   ],
   "source": [
    "plotter.picked_cells.point_arrays['vtkOriginalPointIds']\n"
   ],
   "metadata": {
    "collapsed": false,
    "pycharm": {
     "name": "#%%\n"
    }
   }
  },
  {
   "cell_type": "code",
   "execution_count": 50,
   "outputs": [
    {
     "data": {
      "text/plain": "False"
     },
     "execution_count": 50,
     "metadata": {},
     "output_type": "execute_result"
    }
   ],
   "source": [
    "plotter.picked_cells is None\n"
   ],
   "metadata": {
    "collapsed": false,
    "pycharm": {
     "name": "#%%\n"
    }
   }
  },
  {
   "cell_type": "code",
   "execution_count": 51,
   "outputs": [
    {
     "data": {
      "text/plain": "UnstructuredGrid (0x7f0ec6621a60)\n  N Cells:\t822\n  N Points:\t822\n  X Bounds:\t5.299e+00, 9.309e+00\n  Y Bounds:\t-5.298e-01, 1.187e+00\n  Z Bounds:\t-1.607e+00, -1.418e+00\n  N Arrays:\t3",
      "text/html": "<table><tr><th>Header</th><th>Data Arrays</th></tr><tr><td>\n<table>\n<tr><th>UnstructuredGrid</th><th>Information</th></tr>\n<tr><td>N Cells</td><td>822</td></tr>\n<tr><td>N Points</td><td>822</td></tr>\n<tr><td>X Bounds</td><td>5.299e+00, 9.309e+00</td></tr>\n<tr><td>Y Bounds</td><td>-5.298e-01, 1.187e+00</td></tr>\n<tr><td>Z Bounds</td><td>-1.607e+00, -1.418e+00</td></tr>\n<tr><td>N Arrays</td><td>3</td></tr>\n</table>\n\n</td><td>\n<table>\n<tr><th>Name</th><th>Field</th><th>Type</th><th>N Comp</th><th>Min</th><th>Max</th></tr>\n<tr><td>vtkOriginalPointIds</td><td>Points</td><td>int64</td><td>1</td><td>6.880e+04</td><td>1.024e+05</td></tr>\n<tr><td><b>orig_extract_id</b></td><td>Cells</td><td>int64</td><td>1</td><td>6.880e+04</td><td>1.024e+05</td></tr>\n<tr><td>vtkOriginalCellIds</td><td>Cells</td><td>int64</td><td>1</td><td>6.880e+04</td><td>1.024e+05</td></tr>\n</table>\n\n</td></tr> </table>"
     },
     "execution_count": 51,
     "metadata": {},
     "output_type": "execute_result"
    }
   ],
   "source": [
    "plotter.picked_cells"
   ],
   "metadata": {
    "collapsed": false,
    "pycharm": {
     "name": "#%%\n"
    }
   }
  },
  {
   "cell_type": "code",
   "execution_count": 52,
   "outputs": [
    {
     "data": {
      "text/plain": "{'vtkOriginalPointIds': array([ 68797,  68799,  68800,  68802,  68803,  68805,  68806,  68807,\n         68809,  68811,  68812,  68814,  68815,  68817,  68819,  68820,\n         68821,  68823,  68824,  68826,  68828,  68830,  68831,  68832,\n         68833,  70902,  70903,  70904,  70906,  70908,  70909,  70911,\n         70913,  70914,  70915,  70917,  70919,  70920,  70921,  70922,\n         70923,  70925,  70926,  70928,  70929,  70931,  70933,  70935,\n         70936,  70937,  70938,  70940,  70941,  70942,  70943,  70944,\n         70946,  73031,  73032,  73034,  73035,  73037,  73039,  73040,\n         73041,  73042,  73044,  73045,  73047,  73049,  73050,  73051,\n         73052,  73053,  73054,  73055,  73057,  73059,  73061,  73062,\n         73063,  73064,  73065,  73066,  73067,  73068,  73069,  73071,\n         73072,  73074,  73075,  73077,  73078,  73079,  73080,  73082,\n         73083,  73084,  73085,  73087,  73088,  73089,  73090,  73091,\n         73092,  73094,  73095,  73096,  73097,  73099,  75134,  75136,\n         75137,  75138,  75139,  75140,  75142,  75143,  75144,  75147,\n         75148,  75149,  75150,  75151,  75153,  75155,  75156,  75157,\n         75159,  75161,  75163,  75164,  75165,  75166,  75167,  75169,\n         75170,  75171,  75172,  75173,  75174,  75175,  75176,  75178,\n         75179,  75181,  75183,  75184,  75185,  75186,  75187,  75188,\n         75189,  75192,  75193,  75194,  75195,  75196,  75197,  75198,\n         75200,  75201,  77150,  77152,  77153,  77154,  77156,  77158,\n         77160,  77161,  77162,  77165,  77166,  77168,  77169,  77171,\n         77173,  77174,  77176,  77177,  77178,  77179,  77181,  77183,\n         77185,  77186,  77188,  77190,  77192,  77194,  77195,  77196,\n         77198,  77199,  77200,  77203,  77204,  77207,  77208,  77209,\n         77212,  77213,  77214,  77215,  77216,  77219,  77221,  79222,\n         79224,  79225,  79227,  79229,  79231,  79232,  79233,  79236,\n         79238,  79239,  79240,  79241,  79243,  79245,  79246,  79247,\n         79248,  79251,  79252,  79254,  79255,  79258,  79259,  79260,\n         79261,  79263,  79264,  79267,  79268,  79269,  79270,  79271,\n         79272,  79274,  79275,  79276,  79277,  79278,  79279,  79281,\n         79284,  79285,  79287,  79288,  79289,  79291,  79293,  79295,\n         79296,  81383,  81386,  81387,  81389,  81391,  81393,  81394,\n         81396,  81398,  81400,  81402,  81403,  81404,  81405,  81406,\n         81407,  81408,  81410,  81413,  81414,  81415,  81416,  81417,\n         81418,  81420,  81422,  81423,  81426,  81428,  81429,  81430,\n         81431,  81432,  81433,  81434,  81435,  81436,  81437,  81439,\n         81441,  81443,  81445,  81447,  81449,  81451,  81452,  81454,\n         81456,  81458,  81459,  81460,  83511,  83513,  83514,  83517,\n         83518,  83520,  83521,  83523,  83526,  83528,  83529,  83530,\n         83531,  83533,  83534,  83535,  83536,  83537,  83538,  83540,\n         83543,  83545,  83546,  83548,  83550,  83551,  83552,  83554,\n         83555,  83558,  83559,  83562,  83563,  83565,  83567,  83568,\n         83570,  83572,  83574,  83575,  83578,  83580,  83581,  83582,\n         83584,  83585,  83587,  83589,  85602,  85603,  85605,  85606,\n         85607,  85608,  85609,  85610,  85611,  85613,  85614,  85617,\n         85618,  85620,  85623,  85624,  85626,  85627,  85629,  85631,\n         85633,  85635,  85637,  85638,  85639,  85640,  85641,  85643,\n         85644,  85646,  85647,  85649,  85650,  85653,  85654,  85657,\n         85658,  85661,  85663,  85665,  85666,  85668,  85671,  85672,\n         85674,  85675,  85676,  85677,  85679,  85682,  85683,  87617,\n         87619,  87621,  87622,  87623,  87624,  87625,  87627,  87628,\n         87629,  87631,  87634,  87635,  87637,  87640,  87642,  87646,\n         87647,  87650,  87652,  87653,  87656,  87658,  87660,  87661,\n         87662,  87663,  87665,  87667,  87668,  87670,  87673,  87674,\n         87677,  87679,  87680,  87681,  87682,  87685,  87688,  87689,\n         87691,  87692,  87694,  87697,  87698,  87699,  87700,  87702,\n         87703,  89408,  89410,  89412,  89414,  89415,  89416,  89417,\n         89418,  89419,  89421,  89423,  89424,  89425,  89428,  89429,\n         89431,  89434,  89435,  89436,  89438,  89442,  89444,  89446,\n         89448,  89450,  89452,  89455,  89456,  89457,  89458,  89461,\n         89463,  89465,  89467,  89470,  89471,  89473,  89475,  89476,\n         89478,  89479,  89481,  89482,  89485,  89486,  89488,  89489,\n         89491,  89494,  89497,  89499,  91381,  91382,  91385,  91387,\n         91389,  91391,  91393,  91395,  91396,  91398,  91400,  91401,\n         91403,  91404,  91405,  91406,  91407,  91411,  91413,  91415,\n         91417,  91418,  91419,  91421,  91422,  91423,  91424,  91425,\n         91426,  91428,  91430,  91432,  91435,  91438,  91440,  91442,\n         91443,  91444,  91447,  91448,  91450,  91453,  91455,  91456,\n         91457,  91458,  91461,  91462,  91464,  91465,  91466,  91467,\n         91468,  91469,  91472,  93177,  93179,  93181,  93184,  93187,\n         93188,  93190,  93191,  93192,  93193,  93194,  93195,  93196,\n         93198,  93199,  93200,  93201,  93202,  93204,  93205,  93207,\n         93209,  93210,  93212,  93213,  93216,  93219,  93221,  93222,\n         93224,  93228,  93230,  93231,  93234,  93237,  93239,  93240,\n         93241,  93242,  93244,  93246,  93248,  93251,  93252,  93254,\n         93255,  93257,  93261,  93262,  93265,  93266,  93268,  93269,\n         93271,  95049,  95051,  95053,  95054,  95055,  95058,  95060,\n         95063,  95065,  95068,  95070,  95072,  95075,  95077,  95080,\n         95082,  95085,  95086,  95089,  95090,  95092,  95094,  95096,\n         95097,  95099,  95100,  95104,  95106,  95109,  95111,  95113,\n         95115,  95117,  95120,  95122,  95123,  95125,  95127,  95131,\n         95133,  95135,  95136,  95138,  95140,  95143,  95146,  96966,\n         96969,  96970,  96972,  96973,  96975,  96977,  96978,  96980,\n         96981,  96984,  96987,  96989,  96992,  96995,  96996,  96998,\n         96999,  97000,  97002,  97005,  97007,  97009,  97011,  97014,\n         97016,  97019,  97022,  97024,  97027,  97029,  97031,  97034,\n         97035,  97037,  97039,  97042,  97043,  97045,  97048,  97049,\n         97050,  97053,  97055,  97059,  97061,  97064,  97066,  98805,\n         98806,  98808,  98809,  98810,  98812,  98814,  98815,  98816,\n         98819,  98820,  98821,  98823,  98826,  98829,  98830,  98832,\n         98834,  98835,  98836,  98837,  98838,  98840,  98842,  98844,\n         98847,  98848,  98850,  98854,  98855,  98859,  98860,  98864,\n         98866,  98868,  98871,  98874,  98877,  98879,  98881,  98883,\n         98887,  98888,  98889,  98891,  98892,  98894,  98895,  98896,\n         98898,  98901,  98904,  98907,  98908,  98910, 100546, 100548,\n        100551, 100553, 100554, 100555, 100556, 100559, 100560, 100561,\n        100563, 100564, 100566, 100568, 100569, 100571, 100572, 100576,\n        100577, 100580, 100581, 100584, 100585, 100588, 100591, 100592,\n        100597, 100599, 100601, 100602, 100603, 100605, 100607, 100608,\n        100611, 100613, 100614, 100617, 100620, 100623, 100624, 100628,\n        102370, 102373, 102374, 102378, 102379, 102383, 102385, 102387,\n        102389, 102392, 102394, 102397, 102400, 102402])}"
     },
     "execution_count": 52,
     "metadata": {},
     "output_type": "execute_result"
    }
   ],
   "source": [
    "plotter.picked_cells.point_arrays\n",
    "\n",
    "\n"
   ],
   "metadata": {
    "collapsed": false,
    "pycharm": {
     "name": "#%%\n"
    }
   }
  },
  {
   "cell_type": "code",
   "execution_count": null,
   "outputs": [],
   "source": [
    "\n"
   ],
   "metadata": {
    "collapsed": false,
    "pycharm": {
     "name": "#%%\n"
    }
   }
  }
 ],
 "metadata": {
  "kernelspec": {
   "display_name": "Python 3",
   "language": "python",
   "name": "python3"
  },
  "language_info": {
   "codemirror_mode": {
    "name": "ipython",
    "version": 2
   },
   "file_extension": ".py",
   "mimetype": "text/x-python",
   "name": "python",
   "nbconvert_exporter": "python",
   "pygments_lexer": "ipython2",
   "version": "2.7.6"
  }
 },
 "nbformat": 4,
 "nbformat_minor": 0
}