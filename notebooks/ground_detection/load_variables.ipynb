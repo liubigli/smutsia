{
 "cells": [
  {
   "cell_type": "code",
   "execution_count": 1,
   "metadata": {},
   "outputs": [],
   "source": [
    "%load_ext autoreload\n",
    "%autoreload 2"
   ]
  },
  {
   "cell_type": "code",
   "execution_count": 3,
   "metadata": {},
   "outputs": [],
   "source": [
    "import os\n",
    "import numpy as np\n",
    "import pandas as pd\n",
    "from glob import glob\n",
    "from pyntcloud import PyntCloud\n",
    "from matplotlib import pyplot as plt\n",
    "from scipy.sparse import find, csr_matrix\n",
    "from scipy.sparse.csgraph import minimum_spanning_tree\n",
    "import loadlib\n",
    "from smutsia.utils.viz import plot_cloud\n",
    "from smutsia.point_cloud import filter_points\n",
    "from smutsia.utils.semantickitti import load_pyntcloud\n",
    "from smutsia.point_cloud.normals import get_normals\n",
    "from smutsia.utils.graph import cloud_knn_graph, cloud_spherical_graph, merge_graphs\n",
    "from smutsia.morphology.segmentation.metrics import z_nz_dist\n",
    "from smutsia.morphology.segmentation import quasi_flat_zones\n",
    "from smutsia.utils.semantickitti import SemanticKittiConfig"
   ]
  },
  {
   "cell_type": "code",
   "execution_count": 4,
   "metadata": {},
   "outputs": [],
   "source": [
    "basedir = '../../data/semantickitti/dataset/sequences/'\n",
    "sequences = sorted(os.listdir(basedir))\n",
    "plyfiles = sorted(glob(os.path.join(basedir, sequences[8], 'velodyne', '*.bin')))\n",
    "skconfig = SemanticKittiConfig('../../config/labels/semantic-kitti.yaml')"
   ]
  },
  {
   "cell_type": "code",
   "execution_count": 5,
   "metadata": {},
   "outputs": [
    {
     "name": "stdout",
     "output_type": "stream",
     "text": [
      "3721\n"
     ]
    }
   ],
   "source": [
    "# nidx = np.random.randint(len(plyfiles))\n",
    "nidx = 3721\n",
    "print(nidx)\n",
    "cloud = load_pyntcloud(plyfiles[nidx], add_label=True)\n",
    "fpoints = filter_points(cloud.points.values, height_range=(-4.0, np.inf))\n",
    "cloud = PyntCloud(pd.DataFrame(fpoints, columns=list(cloud.points)))"
   ]
  },
  {
   "cell_type": "code",
   "execution_count": 2,
   "metadata": {},
   "outputs": [
    {
     "name": "stdout",
     "output_type": "stream",
     "text": [
      "[0, 10, 13, 18, 11, 15, 31, 32, 30, 40, 44, 48, 49, 60, 72, 50, 252, 253, 254, 255, 256, 257, 258, 259] [[0], [10, 13, 18], [11, 15, 31, 32], [30], [40, 44, 48, 49, 60, 72], [50], [252, 253, 254, 255, 256, 257, 258, 259]]\n"
     ]
    }
   ],
   "source": [
    "carLikeId=[10,13,18]\n",
    "bikeLikeId=[11,15,31,32]\n",
    "personId=[30]\n",
    "groundLikeId=[40,44,48,49,60,72]\n",
    "buildId=[50]\n",
    "movingLikeId=[252,253,254,255,256,257,258,259]\n",
    "\n",
    "mySelect=[[0],carLikeId,bikeLikeId,personId,groundLikeId,buildId,movingLikeId]\n",
    "selectedId=[]\n",
    "condensedId=[]\n",
    "for elem in mySelect:\n",
    "    selectedId.extend(elem)\n",
    "    condensedId.append(elem)\n",
    "    \n",
    "print(selectedId,condensedId)"
   ]
  },
  {
   "cell_type": "code",
   "execution_count": null,
   "metadata": {},
   "outputs": [],
   "source": []
  }
 ],
 "metadata": {
  "kernelspec": {
   "display_name": "Python 3",
   "language": "python",
   "name": "python3"
  },
  "language_info": {
   "codemirror_mode": {
    "name": "ipython",
    "version": 3
   },
   "file_extension": ".py",
   "mimetype": "text/x-python",
   "name": "python",
   "nbconvert_exporter": "python",
   "pygments_lexer": "ipython3",
   "version": "3.7.4"
  }
 },
 "nbformat": 4,
 "nbformat_minor": 4
}
